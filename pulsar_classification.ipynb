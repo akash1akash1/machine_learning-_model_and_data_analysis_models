{
  "nbformat": 4,
  "nbformat_minor": 0,
  "metadata": {
    "colab": {
      "provenance": []
    },
    "kernelspec": {
      "name": "python3",
      "display_name": "Python 3"
    },
    "language_info": {
      "name": "python"
    }
  },
  "cells": [
    {
      "cell_type": "code",
      "execution_count": null,
      "metadata": {
        "id": "JJyrmZd6TCx_"
      },
      "outputs": [],
      "source": []
    },
    {
      "cell_type": "code",
      "execution_count": null,
      "metadata": {
        "id": "1Zs6U_zl17KO"
      },
      "outputs": [],
      "source": [
        "import pandas as pd\n",
        "import numpy as np\n",
        "import matplotlib.pyplot as plt\n",
        "import seaborn as sns\n",
        "from sklearn.model_selection import train_test_split\n",
        "from sklearn.linear_model import LogisticRegression\n",
        "from sklearn.metrics import accuracy_score,classification_report,confusion_matrix\n",
        "from sklearn.preprocessing import StandardScaler\n",
        "from sklearn.naive_bayes import MultinomialNB\n",
        "from sklearn.neighbors import KNeighborsClassifier\n",
        "from sklearn import svm\n",
        "from sklearn import tree\n",
        "from sklearn.tree import DecisionTreeClassifier\n",
        "from xgboost import XGBClassifier"
      ]
    },
    {
      "cell_type": "code",
      "source": [
        "df = pd.read_csv(\"/content/Pulsar.csv\")"
      ],
      "metadata": {
        "id": "zU45vscC3J3X"
      },
      "execution_count": null,
      "outputs": []
    },
    {
      "cell_type": "code",
      "source": [
        "df.head()"
      ],
      "metadata": {
        "colab": {
          "base_uri": "https://localhost:8080/",
          "height": 206
        },
        "id": "0eyyUL-t3ReZ",
        "outputId": "a0200aa4-b259-44e0-cfef-332b6836b812"
      },
      "execution_count": null,
      "outputs": [
        {
          "output_type": "execute_result",
          "data": {
            "text/plain": [
              "   Mean_Integrated         SD        EK  Skewness  Mean_DMSNR_Curve  \\\n",
              "0       140.562500  55.683782 -0.234571 -0.699648          3.199833   \n",
              "1       102.507812  58.882430  0.465318 -0.515088          1.677258   \n",
              "2       103.015625  39.341649  0.323328  1.051164          3.121237   \n",
              "3       136.750000  57.178449 -0.068415 -0.636238          3.642977   \n",
              "4        88.726562  40.672225  0.600866  1.123492          1.178930   \n",
              "\n",
              "   SD_DMSNR_Curve  EK_DMSNR_Curve  Skewness_DMSNR_Curve  Class  \n",
              "0       19.110426        7.975532             74.242225      0  \n",
              "1       14.860146       10.576487            127.393580      0  \n",
              "2       21.744669        7.735822             63.171909      0  \n",
              "3       20.959280        6.896499             53.593661      0  \n",
              "4       11.468720       14.269573            252.567306      0  "
            ],
            "text/html": [
              "\n",
              "  <div id=\"df-4137949f-e7b1-43cb-8bf0-79a549287d35\" class=\"colab-df-container\">\n",
              "    <div>\n",
              "<style scoped>\n",
              "    .dataframe tbody tr th:only-of-type {\n",
              "        vertical-align: middle;\n",
              "    }\n",
              "\n",
              "    .dataframe tbody tr th {\n",
              "        vertical-align: top;\n",
              "    }\n",
              "\n",
              "    .dataframe thead th {\n",
              "        text-align: right;\n",
              "    }\n",
              "</style>\n",
              "<table border=\"1\" class=\"dataframe\">\n",
              "  <thead>\n",
              "    <tr style=\"text-align: right;\">\n",
              "      <th></th>\n",
              "      <th>Mean_Integrated</th>\n",
              "      <th>SD</th>\n",
              "      <th>EK</th>\n",
              "      <th>Skewness</th>\n",
              "      <th>Mean_DMSNR_Curve</th>\n",
              "      <th>SD_DMSNR_Curve</th>\n",
              "      <th>EK_DMSNR_Curve</th>\n",
              "      <th>Skewness_DMSNR_Curve</th>\n",
              "      <th>Class</th>\n",
              "    </tr>\n",
              "  </thead>\n",
              "  <tbody>\n",
              "    <tr>\n",
              "      <th>0</th>\n",
              "      <td>140.562500</td>\n",
              "      <td>55.683782</td>\n",
              "      <td>-0.234571</td>\n",
              "      <td>-0.699648</td>\n",
              "      <td>3.199833</td>\n",
              "      <td>19.110426</td>\n",
              "      <td>7.975532</td>\n",
              "      <td>74.242225</td>\n",
              "      <td>0</td>\n",
              "    </tr>\n",
              "    <tr>\n",
              "      <th>1</th>\n",
              "      <td>102.507812</td>\n",
              "      <td>58.882430</td>\n",
              "      <td>0.465318</td>\n",
              "      <td>-0.515088</td>\n",
              "      <td>1.677258</td>\n",
              "      <td>14.860146</td>\n",
              "      <td>10.576487</td>\n",
              "      <td>127.393580</td>\n",
              "      <td>0</td>\n",
              "    </tr>\n",
              "    <tr>\n",
              "      <th>2</th>\n",
              "      <td>103.015625</td>\n",
              "      <td>39.341649</td>\n",
              "      <td>0.323328</td>\n",
              "      <td>1.051164</td>\n",
              "      <td>3.121237</td>\n",
              "      <td>21.744669</td>\n",
              "      <td>7.735822</td>\n",
              "      <td>63.171909</td>\n",
              "      <td>0</td>\n",
              "    </tr>\n",
              "    <tr>\n",
              "      <th>3</th>\n",
              "      <td>136.750000</td>\n",
              "      <td>57.178449</td>\n",
              "      <td>-0.068415</td>\n",
              "      <td>-0.636238</td>\n",
              "      <td>3.642977</td>\n",
              "      <td>20.959280</td>\n",
              "      <td>6.896499</td>\n",
              "      <td>53.593661</td>\n",
              "      <td>0</td>\n",
              "    </tr>\n",
              "    <tr>\n",
              "      <th>4</th>\n",
              "      <td>88.726562</td>\n",
              "      <td>40.672225</td>\n",
              "      <td>0.600866</td>\n",
              "      <td>1.123492</td>\n",
              "      <td>1.178930</td>\n",
              "      <td>11.468720</td>\n",
              "      <td>14.269573</td>\n",
              "      <td>252.567306</td>\n",
              "      <td>0</td>\n",
              "    </tr>\n",
              "  </tbody>\n",
              "</table>\n",
              "</div>\n",
              "    <div class=\"colab-df-buttons\">\n",
              "\n",
              "  <div class=\"colab-df-container\">\n",
              "    <button class=\"colab-df-convert\" onclick=\"convertToInteractive('df-4137949f-e7b1-43cb-8bf0-79a549287d35')\"\n",
              "            title=\"Convert this dataframe to an interactive table.\"\n",
              "            style=\"display:none;\">\n",
              "\n",
              "  <svg xmlns=\"http://www.w3.org/2000/svg\" height=\"24px\" viewBox=\"0 -960 960 960\">\n",
              "    <path d=\"M120-120v-720h720v720H120Zm60-500h600v-160H180v160Zm220 220h160v-160H400v160Zm0 220h160v-160H400v160ZM180-400h160v-160H180v160Zm440 0h160v-160H620v160ZM180-180h160v-160H180v160Zm440 0h160v-160H620v160Z\"/>\n",
              "  </svg>\n",
              "    </button>\n",
              "\n",
              "  <style>\n",
              "    .colab-df-container {\n",
              "      display:flex;\n",
              "      gap: 12px;\n",
              "    }\n",
              "\n",
              "    .colab-df-convert {\n",
              "      background-color: #E8F0FE;\n",
              "      border: none;\n",
              "      border-radius: 50%;\n",
              "      cursor: pointer;\n",
              "      display: none;\n",
              "      fill: #1967D2;\n",
              "      height: 32px;\n",
              "      padding: 0 0 0 0;\n",
              "      width: 32px;\n",
              "    }\n",
              "\n",
              "    .colab-df-convert:hover {\n",
              "      background-color: #E2EBFA;\n",
              "      box-shadow: 0px 1px 2px rgba(60, 64, 67, 0.3), 0px 1px 3px 1px rgba(60, 64, 67, 0.15);\n",
              "      fill: #174EA6;\n",
              "    }\n",
              "\n",
              "    .colab-df-buttons div {\n",
              "      margin-bottom: 4px;\n",
              "    }\n",
              "\n",
              "    [theme=dark] .colab-df-convert {\n",
              "      background-color: #3B4455;\n",
              "      fill: #D2E3FC;\n",
              "    }\n",
              "\n",
              "    [theme=dark] .colab-df-convert:hover {\n",
              "      background-color: #434B5C;\n",
              "      box-shadow: 0px 1px 3px 1px rgba(0, 0, 0, 0.15);\n",
              "      filter: drop-shadow(0px 1px 2px rgba(0, 0, 0, 0.3));\n",
              "      fill: #FFFFFF;\n",
              "    }\n",
              "  </style>\n",
              "\n",
              "    <script>\n",
              "      const buttonEl =\n",
              "        document.querySelector('#df-4137949f-e7b1-43cb-8bf0-79a549287d35 button.colab-df-convert');\n",
              "      buttonEl.style.display =\n",
              "        google.colab.kernel.accessAllowed ? 'block' : 'none';\n",
              "\n",
              "      async function convertToInteractive(key) {\n",
              "        const element = document.querySelector('#df-4137949f-e7b1-43cb-8bf0-79a549287d35');\n",
              "        const dataTable =\n",
              "          await google.colab.kernel.invokeFunction('convertToInteractive',\n",
              "                                                    [key], {});\n",
              "        if (!dataTable) return;\n",
              "\n",
              "        const docLinkHtml = 'Like what you see? Visit the ' +\n",
              "          '<a target=\"_blank\" href=https://colab.research.google.com/notebooks/data_table.ipynb>data table notebook</a>'\n",
              "          + ' to learn more about interactive tables.';\n",
              "        element.innerHTML = '';\n",
              "        dataTable['output_type'] = 'display_data';\n",
              "        await google.colab.output.renderOutput(dataTable, element);\n",
              "        const docLink = document.createElement('div');\n",
              "        docLink.innerHTML = docLinkHtml;\n",
              "        element.appendChild(docLink);\n",
              "      }\n",
              "    </script>\n",
              "  </div>\n",
              "\n",
              "\n",
              "<div id=\"df-386c4dfa-a3d5-4ea9-9593-6c960a612532\">\n",
              "  <button class=\"colab-df-quickchart\" onclick=\"quickchart('df-386c4dfa-a3d5-4ea9-9593-6c960a612532')\"\n",
              "            title=\"Suggest charts\"\n",
              "            style=\"display:none;\">\n",
              "\n",
              "<svg xmlns=\"http://www.w3.org/2000/svg\" height=\"24px\"viewBox=\"0 0 24 24\"\n",
              "     width=\"24px\">\n",
              "    <g>\n",
              "        <path d=\"M19 3H5c-1.1 0-2 .9-2 2v14c0 1.1.9 2 2 2h14c1.1 0 2-.9 2-2V5c0-1.1-.9-2-2-2zM9 17H7v-7h2v7zm4 0h-2V7h2v10zm4 0h-2v-4h2v4z\"/>\n",
              "    </g>\n",
              "</svg>\n",
              "  </button>\n",
              "\n",
              "<style>\n",
              "  .colab-df-quickchart {\n",
              "      --bg-color: #E8F0FE;\n",
              "      --fill-color: #1967D2;\n",
              "      --hover-bg-color: #E2EBFA;\n",
              "      --hover-fill-color: #174EA6;\n",
              "      --disabled-fill-color: #AAA;\n",
              "      --disabled-bg-color: #DDD;\n",
              "  }\n",
              "\n",
              "  [theme=dark] .colab-df-quickchart {\n",
              "      --bg-color: #3B4455;\n",
              "      --fill-color: #D2E3FC;\n",
              "      --hover-bg-color: #434B5C;\n",
              "      --hover-fill-color: #FFFFFF;\n",
              "      --disabled-bg-color: #3B4455;\n",
              "      --disabled-fill-color: #666;\n",
              "  }\n",
              "\n",
              "  .colab-df-quickchart {\n",
              "    background-color: var(--bg-color);\n",
              "    border: none;\n",
              "    border-radius: 50%;\n",
              "    cursor: pointer;\n",
              "    display: none;\n",
              "    fill: var(--fill-color);\n",
              "    height: 32px;\n",
              "    padding: 0;\n",
              "    width: 32px;\n",
              "  }\n",
              "\n",
              "  .colab-df-quickchart:hover {\n",
              "    background-color: var(--hover-bg-color);\n",
              "    box-shadow: 0 1px 2px rgba(60, 64, 67, 0.3), 0 1px 3px 1px rgba(60, 64, 67, 0.15);\n",
              "    fill: var(--button-hover-fill-color);\n",
              "  }\n",
              "\n",
              "  .colab-df-quickchart-complete:disabled,\n",
              "  .colab-df-quickchart-complete:disabled:hover {\n",
              "    background-color: var(--disabled-bg-color);\n",
              "    fill: var(--disabled-fill-color);\n",
              "    box-shadow: none;\n",
              "  }\n",
              "\n",
              "  .colab-df-spinner {\n",
              "    border: 2px solid var(--fill-color);\n",
              "    border-color: transparent;\n",
              "    border-bottom-color: var(--fill-color);\n",
              "    animation:\n",
              "      spin 1s steps(1) infinite;\n",
              "  }\n",
              "\n",
              "  @keyframes spin {\n",
              "    0% {\n",
              "      border-color: transparent;\n",
              "      border-bottom-color: var(--fill-color);\n",
              "      border-left-color: var(--fill-color);\n",
              "    }\n",
              "    20% {\n",
              "      border-color: transparent;\n",
              "      border-left-color: var(--fill-color);\n",
              "      border-top-color: var(--fill-color);\n",
              "    }\n",
              "    30% {\n",
              "      border-color: transparent;\n",
              "      border-left-color: var(--fill-color);\n",
              "      border-top-color: var(--fill-color);\n",
              "      border-right-color: var(--fill-color);\n",
              "    }\n",
              "    40% {\n",
              "      border-color: transparent;\n",
              "      border-right-color: var(--fill-color);\n",
              "      border-top-color: var(--fill-color);\n",
              "    }\n",
              "    60% {\n",
              "      border-color: transparent;\n",
              "      border-right-color: var(--fill-color);\n",
              "    }\n",
              "    80% {\n",
              "      border-color: transparent;\n",
              "      border-right-color: var(--fill-color);\n",
              "      border-bottom-color: var(--fill-color);\n",
              "    }\n",
              "    90% {\n",
              "      border-color: transparent;\n",
              "      border-bottom-color: var(--fill-color);\n",
              "    }\n",
              "  }\n",
              "</style>\n",
              "\n",
              "  <script>\n",
              "    async function quickchart(key) {\n",
              "      const quickchartButtonEl =\n",
              "        document.querySelector('#' + key + ' button');\n",
              "      quickchartButtonEl.disabled = true;  // To prevent multiple clicks.\n",
              "      quickchartButtonEl.classList.add('colab-df-spinner');\n",
              "      try {\n",
              "        const charts = await google.colab.kernel.invokeFunction(\n",
              "            'suggestCharts', [key], {});\n",
              "      } catch (error) {\n",
              "        console.error('Error during call to suggestCharts:', error);\n",
              "      }\n",
              "      quickchartButtonEl.classList.remove('colab-df-spinner');\n",
              "      quickchartButtonEl.classList.add('colab-df-quickchart-complete');\n",
              "    }\n",
              "    (() => {\n",
              "      let quickchartButtonEl =\n",
              "        document.querySelector('#df-386c4dfa-a3d5-4ea9-9593-6c960a612532 button');\n",
              "      quickchartButtonEl.style.display =\n",
              "        google.colab.kernel.accessAllowed ? 'block' : 'none';\n",
              "    })();\n",
              "  </script>\n",
              "</div>\n",
              "    </div>\n",
              "  </div>\n"
            ]
          },
          "metadata": {},
          "execution_count": 41
        }
      ]
    },
    {
      "cell_type": "code",
      "source": [
        "df.info()"
      ],
      "metadata": {
        "colab": {
          "base_uri": "https://localhost:8080/"
        },
        "id": "ri2kfHhw3Vj8",
        "outputId": "74ff4403-a284-4236-fa19-a642b618d4b3"
      },
      "execution_count": null,
      "outputs": [
        {
          "output_type": "stream",
          "name": "stdout",
          "text": [
            "<class 'pandas.core.frame.DataFrame'>\n",
            "RangeIndex: 17898 entries, 0 to 17897\n",
            "Data columns (total 9 columns):\n",
            " #   Column                Non-Null Count  Dtype  \n",
            "---  ------                --------------  -----  \n",
            " 0   Mean_Integrated       17898 non-null  float64\n",
            " 1   SD                    17898 non-null  float64\n",
            " 2   EK                    17898 non-null  float64\n",
            " 3   Skewness              17898 non-null  float64\n",
            " 4   Mean_DMSNR_Curve      17898 non-null  float64\n",
            " 5   SD_DMSNR_Curve        17898 non-null  float64\n",
            " 6   EK_DMSNR_Curve        17898 non-null  float64\n",
            " 7   Skewness_DMSNR_Curve  17898 non-null  float64\n",
            " 8   Class                 17898 non-null  int64  \n",
            "dtypes: float64(8), int64(1)\n",
            "memory usage: 1.2 MB\n"
          ]
        }
      ]
    },
    {
      "cell_type": "markdown",
      "source": [
        "#last column is our label(y)"
      ],
      "metadata": {
        "id": "m_bdz0Ya4c-3"
      }
    },
    {
      "cell_type": "code",
      "source": [
        "X=df.iloc[:,:-1]\n",
        "y=df.iloc[:,-1]"
      ],
      "metadata": {
        "id": "HNozGBM93Z_o"
      },
      "execution_count": null,
      "outputs": []
    },
    {
      "cell_type": "code",
      "source": [
        "print(y)"
      ],
      "metadata": {
        "colab": {
          "base_uri": "https://localhost:8080/"
        },
        "id": "mLBsbjg54vXM",
        "outputId": "aac5ba33-6408-4a06-8735-fd70b08babfd"
      },
      "execution_count": null,
      "outputs": [
        {
          "output_type": "stream",
          "name": "stdout",
          "text": [
            "0        0\n",
            "1        0\n",
            "2        0\n",
            "3        0\n",
            "4        0\n",
            "        ..\n",
            "17893    0\n",
            "17894    0\n",
            "17895    0\n",
            "17896    0\n",
            "17897    0\n",
            "Name: Class, Length: 17898, dtype: int64\n"
          ]
        }
      ]
    },
    {
      "cell_type": "code",
      "source": [
        "df.corr()"
      ],
      "metadata": {
        "colab": {
          "base_uri": "https://localhost:8080/",
          "height": 331
        },
        "id": "fBDFvLce49mh",
        "outputId": "8fe5a2ae-ba39-47e1-cd1b-2e1d2dd8b73f"
      },
      "execution_count": null,
      "outputs": [
        {
          "output_type": "execute_result",
          "data": {
            "text/plain": [
              "                      Mean_Integrated        SD        EK  Skewness  \\\n",
              "Mean_Integrated              1.000000  0.547137 -0.873898 -0.738775   \n",
              "SD                           0.547137  1.000000 -0.521435 -0.539793   \n",
              "EK                          -0.873898 -0.521435  1.000000  0.945729   \n",
              "Skewness                    -0.738775 -0.539793  0.945729  1.000000   \n",
              "Mean_DMSNR_Curve            -0.298841  0.006869  0.414368  0.412056   \n",
              "SD_DMSNR_Curve              -0.307016 -0.047632  0.432880  0.415140   \n",
              "EK_DMSNR_Curve               0.234331  0.029429 -0.341209 -0.328843   \n",
              "Skewness_DMSNR_Curve         0.144033  0.027691 -0.214491 -0.204782   \n",
              "Class                       -0.673181 -0.363708  0.791591  0.709528   \n",
              "\n",
              "                      Mean_DMSNR_Curve  SD_DMSNR_Curve  EK_DMSNR_Curve  \\\n",
              "Mean_Integrated              -0.298841       -0.307016        0.234331   \n",
              "SD                            0.006869       -0.047632        0.029429   \n",
              "EK                            0.414368        0.432880       -0.341209   \n",
              "Skewness                      0.412056        0.415140       -0.328843   \n",
              "Mean_DMSNR_Curve              1.000000        0.796555       -0.615971   \n",
              "SD_DMSNR_Curve                0.796555        1.000000       -0.809786   \n",
              "EK_DMSNR_Curve               -0.615971       -0.809786        1.000000   \n",
              "Skewness_DMSNR_Curve         -0.354269       -0.575800        0.923743   \n",
              "Class                         0.400876        0.491535       -0.390816   \n",
              "\n",
              "                      Skewness_DMSNR_Curve     Class  \n",
              "Mean_Integrated                   0.144033 -0.673181  \n",
              "SD                                0.027691 -0.363708  \n",
              "EK                               -0.214491  0.791591  \n",
              "Skewness                         -0.204782  0.709528  \n",
              "Mean_DMSNR_Curve                 -0.354269  0.400876  \n",
              "SD_DMSNR_Curve                   -0.575800  0.491535  \n",
              "EK_DMSNR_Curve                    0.923743 -0.390816  \n",
              "Skewness_DMSNR_Curve              1.000000 -0.259117  \n",
              "Class                            -0.259117  1.000000  "
            ],
            "text/html": [
              "\n",
              "  <div id=\"df-8baf00ca-900c-42dd-9cc3-4d5acd60e8a0\" class=\"colab-df-container\">\n",
              "    <div>\n",
              "<style scoped>\n",
              "    .dataframe tbody tr th:only-of-type {\n",
              "        vertical-align: middle;\n",
              "    }\n",
              "\n",
              "    .dataframe tbody tr th {\n",
              "        vertical-align: top;\n",
              "    }\n",
              "\n",
              "    .dataframe thead th {\n",
              "        text-align: right;\n",
              "    }\n",
              "</style>\n",
              "<table border=\"1\" class=\"dataframe\">\n",
              "  <thead>\n",
              "    <tr style=\"text-align: right;\">\n",
              "      <th></th>\n",
              "      <th>Mean_Integrated</th>\n",
              "      <th>SD</th>\n",
              "      <th>EK</th>\n",
              "      <th>Skewness</th>\n",
              "      <th>Mean_DMSNR_Curve</th>\n",
              "      <th>SD_DMSNR_Curve</th>\n",
              "      <th>EK_DMSNR_Curve</th>\n",
              "      <th>Skewness_DMSNR_Curve</th>\n",
              "      <th>Class</th>\n",
              "    </tr>\n",
              "  </thead>\n",
              "  <tbody>\n",
              "    <tr>\n",
              "      <th>Mean_Integrated</th>\n",
              "      <td>1.000000</td>\n",
              "      <td>0.547137</td>\n",
              "      <td>-0.873898</td>\n",
              "      <td>-0.738775</td>\n",
              "      <td>-0.298841</td>\n",
              "      <td>-0.307016</td>\n",
              "      <td>0.234331</td>\n",
              "      <td>0.144033</td>\n",
              "      <td>-0.673181</td>\n",
              "    </tr>\n",
              "    <tr>\n",
              "      <th>SD</th>\n",
              "      <td>0.547137</td>\n",
              "      <td>1.000000</td>\n",
              "      <td>-0.521435</td>\n",
              "      <td>-0.539793</td>\n",
              "      <td>0.006869</td>\n",
              "      <td>-0.047632</td>\n",
              "      <td>0.029429</td>\n",
              "      <td>0.027691</td>\n",
              "      <td>-0.363708</td>\n",
              "    </tr>\n",
              "    <tr>\n",
              "      <th>EK</th>\n",
              "      <td>-0.873898</td>\n",
              "      <td>-0.521435</td>\n",
              "      <td>1.000000</td>\n",
              "      <td>0.945729</td>\n",
              "      <td>0.414368</td>\n",
              "      <td>0.432880</td>\n",
              "      <td>-0.341209</td>\n",
              "      <td>-0.214491</td>\n",
              "      <td>0.791591</td>\n",
              "    </tr>\n",
              "    <tr>\n",
              "      <th>Skewness</th>\n",
              "      <td>-0.738775</td>\n",
              "      <td>-0.539793</td>\n",
              "      <td>0.945729</td>\n",
              "      <td>1.000000</td>\n",
              "      <td>0.412056</td>\n",
              "      <td>0.415140</td>\n",
              "      <td>-0.328843</td>\n",
              "      <td>-0.204782</td>\n",
              "      <td>0.709528</td>\n",
              "    </tr>\n",
              "    <tr>\n",
              "      <th>Mean_DMSNR_Curve</th>\n",
              "      <td>-0.298841</td>\n",
              "      <td>0.006869</td>\n",
              "      <td>0.414368</td>\n",
              "      <td>0.412056</td>\n",
              "      <td>1.000000</td>\n",
              "      <td>0.796555</td>\n",
              "      <td>-0.615971</td>\n",
              "      <td>-0.354269</td>\n",
              "      <td>0.400876</td>\n",
              "    </tr>\n",
              "    <tr>\n",
              "      <th>SD_DMSNR_Curve</th>\n",
              "      <td>-0.307016</td>\n",
              "      <td>-0.047632</td>\n",
              "      <td>0.432880</td>\n",
              "      <td>0.415140</td>\n",
              "      <td>0.796555</td>\n",
              "      <td>1.000000</td>\n",
              "      <td>-0.809786</td>\n",
              "      <td>-0.575800</td>\n",
              "      <td>0.491535</td>\n",
              "    </tr>\n",
              "    <tr>\n",
              "      <th>EK_DMSNR_Curve</th>\n",
              "      <td>0.234331</td>\n",
              "      <td>0.029429</td>\n",
              "      <td>-0.341209</td>\n",
              "      <td>-0.328843</td>\n",
              "      <td>-0.615971</td>\n",
              "      <td>-0.809786</td>\n",
              "      <td>1.000000</td>\n",
              "      <td>0.923743</td>\n",
              "      <td>-0.390816</td>\n",
              "    </tr>\n",
              "    <tr>\n",
              "      <th>Skewness_DMSNR_Curve</th>\n",
              "      <td>0.144033</td>\n",
              "      <td>0.027691</td>\n",
              "      <td>-0.214491</td>\n",
              "      <td>-0.204782</td>\n",
              "      <td>-0.354269</td>\n",
              "      <td>-0.575800</td>\n",
              "      <td>0.923743</td>\n",
              "      <td>1.000000</td>\n",
              "      <td>-0.259117</td>\n",
              "    </tr>\n",
              "    <tr>\n",
              "      <th>Class</th>\n",
              "      <td>-0.673181</td>\n",
              "      <td>-0.363708</td>\n",
              "      <td>0.791591</td>\n",
              "      <td>0.709528</td>\n",
              "      <td>0.400876</td>\n",
              "      <td>0.491535</td>\n",
              "      <td>-0.390816</td>\n",
              "      <td>-0.259117</td>\n",
              "      <td>1.000000</td>\n",
              "    </tr>\n",
              "  </tbody>\n",
              "</table>\n",
              "</div>\n",
              "    <div class=\"colab-df-buttons\">\n",
              "\n",
              "  <div class=\"colab-df-container\">\n",
              "    <button class=\"colab-df-convert\" onclick=\"convertToInteractive('df-8baf00ca-900c-42dd-9cc3-4d5acd60e8a0')\"\n",
              "            title=\"Convert this dataframe to an interactive table.\"\n",
              "            style=\"display:none;\">\n",
              "\n",
              "  <svg xmlns=\"http://www.w3.org/2000/svg\" height=\"24px\" viewBox=\"0 -960 960 960\">\n",
              "    <path d=\"M120-120v-720h720v720H120Zm60-500h600v-160H180v160Zm220 220h160v-160H400v160Zm0 220h160v-160H400v160ZM180-400h160v-160H180v160Zm440 0h160v-160H620v160ZM180-180h160v-160H180v160Zm440 0h160v-160H620v160Z\"/>\n",
              "  </svg>\n",
              "    </button>\n",
              "\n",
              "  <style>\n",
              "    .colab-df-container {\n",
              "      display:flex;\n",
              "      gap: 12px;\n",
              "    }\n",
              "\n",
              "    .colab-df-convert {\n",
              "      background-color: #E8F0FE;\n",
              "      border: none;\n",
              "      border-radius: 50%;\n",
              "      cursor: pointer;\n",
              "      display: none;\n",
              "      fill: #1967D2;\n",
              "      height: 32px;\n",
              "      padding: 0 0 0 0;\n",
              "      width: 32px;\n",
              "    }\n",
              "\n",
              "    .colab-df-convert:hover {\n",
              "      background-color: #E2EBFA;\n",
              "      box-shadow: 0px 1px 2px rgba(60, 64, 67, 0.3), 0px 1px 3px 1px rgba(60, 64, 67, 0.15);\n",
              "      fill: #174EA6;\n",
              "    }\n",
              "\n",
              "    .colab-df-buttons div {\n",
              "      margin-bottom: 4px;\n",
              "    }\n",
              "\n",
              "    [theme=dark] .colab-df-convert {\n",
              "      background-color: #3B4455;\n",
              "      fill: #D2E3FC;\n",
              "    }\n",
              "\n",
              "    [theme=dark] .colab-df-convert:hover {\n",
              "      background-color: #434B5C;\n",
              "      box-shadow: 0px 1px 3px 1px rgba(0, 0, 0, 0.15);\n",
              "      filter: drop-shadow(0px 1px 2px rgba(0, 0, 0, 0.3));\n",
              "      fill: #FFFFFF;\n",
              "    }\n",
              "  </style>\n",
              "\n",
              "    <script>\n",
              "      const buttonEl =\n",
              "        document.querySelector('#df-8baf00ca-900c-42dd-9cc3-4d5acd60e8a0 button.colab-df-convert');\n",
              "      buttonEl.style.display =\n",
              "        google.colab.kernel.accessAllowed ? 'block' : 'none';\n",
              "\n",
              "      async function convertToInteractive(key) {\n",
              "        const element = document.querySelector('#df-8baf00ca-900c-42dd-9cc3-4d5acd60e8a0');\n",
              "        const dataTable =\n",
              "          await google.colab.kernel.invokeFunction('convertToInteractive',\n",
              "                                                    [key], {});\n",
              "        if (!dataTable) return;\n",
              "\n",
              "        const docLinkHtml = 'Like what you see? Visit the ' +\n",
              "          '<a target=\"_blank\" href=https://colab.research.google.com/notebooks/data_table.ipynb>data table notebook</a>'\n",
              "          + ' to learn more about interactive tables.';\n",
              "        element.innerHTML = '';\n",
              "        dataTable['output_type'] = 'display_data';\n",
              "        await google.colab.output.renderOutput(dataTable, element);\n",
              "        const docLink = document.createElement('div');\n",
              "        docLink.innerHTML = docLinkHtml;\n",
              "        element.appendChild(docLink);\n",
              "      }\n",
              "    </script>\n",
              "  </div>\n",
              "\n",
              "\n",
              "<div id=\"df-8a5a6512-2416-4e79-a21c-4cd7797ba0be\">\n",
              "  <button class=\"colab-df-quickchart\" onclick=\"quickchart('df-8a5a6512-2416-4e79-a21c-4cd7797ba0be')\"\n",
              "            title=\"Suggest charts\"\n",
              "            style=\"display:none;\">\n",
              "\n",
              "<svg xmlns=\"http://www.w3.org/2000/svg\" height=\"24px\"viewBox=\"0 0 24 24\"\n",
              "     width=\"24px\">\n",
              "    <g>\n",
              "        <path d=\"M19 3H5c-1.1 0-2 .9-2 2v14c0 1.1.9 2 2 2h14c1.1 0 2-.9 2-2V5c0-1.1-.9-2-2-2zM9 17H7v-7h2v7zm4 0h-2V7h2v10zm4 0h-2v-4h2v4z\"/>\n",
              "    </g>\n",
              "</svg>\n",
              "  </button>\n",
              "\n",
              "<style>\n",
              "  .colab-df-quickchart {\n",
              "      --bg-color: #E8F0FE;\n",
              "      --fill-color: #1967D2;\n",
              "      --hover-bg-color: #E2EBFA;\n",
              "      --hover-fill-color: #174EA6;\n",
              "      --disabled-fill-color: #AAA;\n",
              "      --disabled-bg-color: #DDD;\n",
              "  }\n",
              "\n",
              "  [theme=dark] .colab-df-quickchart {\n",
              "      --bg-color: #3B4455;\n",
              "      --fill-color: #D2E3FC;\n",
              "      --hover-bg-color: #434B5C;\n",
              "      --hover-fill-color: #FFFFFF;\n",
              "      --disabled-bg-color: #3B4455;\n",
              "      --disabled-fill-color: #666;\n",
              "  }\n",
              "\n",
              "  .colab-df-quickchart {\n",
              "    background-color: var(--bg-color);\n",
              "    border: none;\n",
              "    border-radius: 50%;\n",
              "    cursor: pointer;\n",
              "    display: none;\n",
              "    fill: var(--fill-color);\n",
              "    height: 32px;\n",
              "    padding: 0;\n",
              "    width: 32px;\n",
              "  }\n",
              "\n",
              "  .colab-df-quickchart:hover {\n",
              "    background-color: var(--hover-bg-color);\n",
              "    box-shadow: 0 1px 2px rgba(60, 64, 67, 0.3), 0 1px 3px 1px rgba(60, 64, 67, 0.15);\n",
              "    fill: var(--button-hover-fill-color);\n",
              "  }\n",
              "\n",
              "  .colab-df-quickchart-complete:disabled,\n",
              "  .colab-df-quickchart-complete:disabled:hover {\n",
              "    background-color: var(--disabled-bg-color);\n",
              "    fill: var(--disabled-fill-color);\n",
              "    box-shadow: none;\n",
              "  }\n",
              "\n",
              "  .colab-df-spinner {\n",
              "    border: 2px solid var(--fill-color);\n",
              "    border-color: transparent;\n",
              "    border-bottom-color: var(--fill-color);\n",
              "    animation:\n",
              "      spin 1s steps(1) infinite;\n",
              "  }\n",
              "\n",
              "  @keyframes spin {\n",
              "    0% {\n",
              "      border-color: transparent;\n",
              "      border-bottom-color: var(--fill-color);\n",
              "      border-left-color: var(--fill-color);\n",
              "    }\n",
              "    20% {\n",
              "      border-color: transparent;\n",
              "      border-left-color: var(--fill-color);\n",
              "      border-top-color: var(--fill-color);\n",
              "    }\n",
              "    30% {\n",
              "      border-color: transparent;\n",
              "      border-left-color: var(--fill-color);\n",
              "      border-top-color: var(--fill-color);\n",
              "      border-right-color: var(--fill-color);\n",
              "    }\n",
              "    40% {\n",
              "      border-color: transparent;\n",
              "      border-right-color: var(--fill-color);\n",
              "      border-top-color: var(--fill-color);\n",
              "    }\n",
              "    60% {\n",
              "      border-color: transparent;\n",
              "      border-right-color: var(--fill-color);\n",
              "    }\n",
              "    80% {\n",
              "      border-color: transparent;\n",
              "      border-right-color: var(--fill-color);\n",
              "      border-bottom-color: var(--fill-color);\n",
              "    }\n",
              "    90% {\n",
              "      border-color: transparent;\n",
              "      border-bottom-color: var(--fill-color);\n",
              "    }\n",
              "  }\n",
              "</style>\n",
              "\n",
              "  <script>\n",
              "    async function quickchart(key) {\n",
              "      const quickchartButtonEl =\n",
              "        document.querySelector('#' + key + ' button');\n",
              "      quickchartButtonEl.disabled = true;  // To prevent multiple clicks.\n",
              "      quickchartButtonEl.classList.add('colab-df-spinner');\n",
              "      try {\n",
              "        const charts = await google.colab.kernel.invokeFunction(\n",
              "            'suggestCharts', [key], {});\n",
              "      } catch (error) {\n",
              "        console.error('Error during call to suggestCharts:', error);\n",
              "      }\n",
              "      quickchartButtonEl.classList.remove('colab-df-spinner');\n",
              "      quickchartButtonEl.classList.add('colab-df-quickchart-complete');\n",
              "    }\n",
              "    (() => {\n",
              "      let quickchartButtonEl =\n",
              "        document.querySelector('#df-8a5a6512-2416-4e79-a21c-4cd7797ba0be button');\n",
              "      quickchartButtonEl.style.display =\n",
              "        google.colab.kernel.accessAllowed ? 'block' : 'none';\n",
              "    })();\n",
              "  </script>\n",
              "</div>\n",
              "    </div>\n",
              "  </div>\n"
            ]
          },
          "metadata": {},
          "execution_count": 45
        }
      ]
    },
    {
      "cell_type": "markdown",
      "source": [
        "#split the data ito train and test"
      ],
      "metadata": {
        "id": "ufLTSRiE42rt"
      }
    },
    {
      "cell_type": "code",
      "source": [
        "X_train,X_test,Y_train,Y_test = train_test_split(X,y,test_size=0.2,random_state=42)"
      ],
      "metadata": {
        "id": "1mEvkZgx4y-6"
      },
      "execution_count": null,
      "outputs": []
    },
    {
      "cell_type": "markdown",
      "source": [
        "# Scale the features"
      ],
      "metadata": {
        "id": "wj6RFaVU8Fah"
      }
    },
    {
      "cell_type": "code",
      "source": [
        "scaler = StandardScaler()\n",
        "X_train_scaled = scaler.fit_transform(X_train)\n",
        "X_test_scaled = scaler.transform(X_test)"
      ],
      "metadata": {
        "id": "_T_evTc78DNi"
      },
      "execution_count": null,
      "outputs": []
    },
    {
      "cell_type": "markdown",
      "source": [
        "#logistic regression"
      ],
      "metadata": {
        "id": "JpVicjk8553e"
      }
    },
    {
      "cell_type": "code",
      "source": [
        "model = LogisticRegression()\n",
        "model.fit(X_train_scaled,Y_train)\n",
        "#predictions\n",
        "y_prediction = model.predict(X_test_scaled)\n",
        "#accuracy\n",
        "accuracy = accuracy_score(Y_test,y_prediction)\n",
        "print(f\"Accuracy os logistic regression is {accuracy}\")\n"
      ],
      "metadata": {
        "colab": {
          "base_uri": "https://localhost:8080/"
        },
        "id": "30Rg7jPV5yGC",
        "outputId": "1dd33d0e-2af5-4977-b5e5-8d34f6f51a65"
      },
      "execution_count": null,
      "outputs": [
        {
          "output_type": "stream",
          "name": "stdout",
          "text": [
            "Accuracy os logistic regression is 0.9787709497206704\n"
          ]
        }
      ]
    },
    {
      "cell_type": "code",
      "source": [
        "print(classification_report(Y_test, y_prediction))"
      ],
      "metadata": {
        "colab": {
          "base_uri": "https://localhost:8080/"
        },
        "id": "JIdHYZ4_9N56",
        "outputId": "c338c8dc-35a7-4fe6-ccf2-cc3db6a1d0b6"
      },
      "execution_count": null,
      "outputs": [
        {
          "output_type": "stream",
          "name": "stdout",
          "text": [
            "              precision    recall  f1-score   support\n",
            "\n",
            "           0       0.98      0.99      0.99      3259\n",
            "           1       0.94      0.82      0.87       321\n",
            "\n",
            "    accuracy                           0.98      3580\n",
            "   macro avg       0.96      0.91      0.93      3580\n",
            "weighted avg       0.98      0.98      0.98      3580\n",
            "\n"
          ]
        }
      ]
    },
    {
      "cell_type": "code",
      "source": [
        "cm = confusion_matrix(Y_test, y_prediction)\n",
        "\n",
        "#visualize the confusion matrix\n",
        "sns.heatmap(cm, annot=True, fmt=\"d\", cmap=\"Blues\", cbar=False,\n",
        "            xticklabels=['Predicted 0', 'Predicted 1'],\n",
        "            yticklabels=['Actual 0', 'Actual 1'])\n",
        "\n",
        "plt.xlabel(\"Predicted\")\n",
        "plt.ylabel(\"Actual\")\n",
        "plt.title(\"Confusion Matrix\")\n",
        "plt.show()"
      ],
      "metadata": {
        "colab": {
          "base_uri": "https://localhost:8080/",
          "height": 472
        },
        "id": "-xWdYgg08g7s",
        "outputId": "80376950-bcff-404b-ee01-3752e0f098cb"
      },
      "execution_count": null,
      "outputs": [
        {
          "output_type": "display_data",
          "data": {
            "text/plain": [
              "<Figure size 640x480 with 1 Axes>"
            ],
            "image/png": "[encoded data removed]"
          },
          "metadata": {}
        }
      ]
    },
    {
      "cell_type": "markdown",
      "source": [
        "#KNN"
      ],
      "metadata": {
        "id": "FOW8Ff82_UB9"
      }
    },
    {
      "cell_type": "code",
      "source": [
        "model_knn = KNeighborsClassifier(n_neighbors=5)    #n=5\n",
        "model_knn.fit(X_train_scaled,Y_train)\n",
        "y_prediction_knn = model_knn.predict(X_test_scaled)\n",
        "accuracy1 = accuracy_score(Y_test,y_prediction_knn)\n",
        "# print(f\"Accuracy os KNN is {accuracy1}\")\n",
        "print(classification_report(Y_test, y_prediction_knn))"
      ],
      "metadata": {
        "colab": {
          "base_uri": "https://localhost:8080/"
        },
        "id": "LY6LUq78_Qrr",
        "outputId": "2810befe-3233-4be7-c902-dff8c26fccb7"
      },
      "execution_count": null,
      "outputs": [
        {
          "output_type": "stream",
          "name": "stdout",
          "text": [
            "              precision    recall  f1-score   support\n",
            "\n",
            "           0       0.99      0.99      0.99      3259\n",
            "           1       0.93      0.85      0.89       321\n",
            "\n",
            "    accuracy                           0.98      3580\n",
            "   macro avg       0.96      0.92      0.94      3580\n",
            "weighted avg       0.98      0.98      0.98      3580\n",
            "\n"
          ]
        }
      ]
    },
    {
      "cell_type": "code",
      "source": [
        "cm = confusion_matrix(Y_test, y_prediction_knn)\n",
        "\n",
        "#visualize the confusion matrix\n",
        "sns.heatmap(cm, annot=True, fmt=\"d\", cmap=\"Blues\", cbar=False,\n",
        "            xticklabels=['Predicted 0', 'Predicted 1'],\n",
        "            yticklabels=['Actual 0', 'Actual 1'])\n",
        "\n",
        "plt.xlabel(\"Predicted\")\n",
        "plt.ylabel(\"Actual\")\n",
        "plt.title(\"Confusion Matrix\")\n",
        "plt.show()"
      ],
      "metadata": {
        "colab": {
          "base_uri": "https://localhost:8080/",
          "height": 472
        },
        "id": "P5bymei5BRGF",
        "outputId": "e8b07342-b441-4e61-b07f-77534747be16"
      },
      "execution_count": null,
      "outputs": [
        {
          "output_type": "display_data",
          "data": {
            "text/plain": [
              "<Figure size 640x480 with 1 Axes>"
            ],
            "image/png": "[encoded data removed]"
          },
          "metadata": {}
        }
      ]
    },
    {
      "cell_type": "markdown",
      "source": [
        "#Sopport Vector Machine"
      ],
      "metadata": {
        "id": "MGmg5CAPBqwj"
      }
    },
    {
      "cell_type": "code",
      "source": [
        "model_svm = svm.SVC()\n",
        "model_svm.fit(X_train_scaled, Y_train)\n",
        "y_pred_svm = model_svm.predict(X_test_scaled)\n",
        "accuracy1 = accuracy_score(Y_test,y_pred_svm)\n",
        "# print(f\"Accuracy os KNN is {accuracy1}\")\n",
        "print(classification_report(Y_test, y_pred_svm))\n"
      ],
      "metadata": {
        "colab": {
          "base_uri": "https://localhost:8080/"
        },
        "id": "tkGNNst7BXkR",
        "outputId": "64d2d55e-d77d-4c24-b497-c10f2be5e82f"
      },
      "execution_count": null,
      "outputs": [
        {
          "output_type": "stream",
          "name": "stdout",
          "text": [
            "              precision    recall  f1-score   support\n",
            "\n",
            "           0       0.98      0.99      0.99      3259\n",
            "           1       0.94      0.83      0.88       321\n",
            "\n",
            "    accuracy                           0.98      3580\n",
            "   macro avg       0.96      0.91      0.93      3580\n",
            "weighted avg       0.98      0.98      0.98      3580\n",
            "\n"
          ]
        }
      ]
    },
    {
      "cell_type": "code",
      "source": [
        "cm = confusion_matrix(Y_test, y_pred_svm)\n",
        "\n",
        "#visualize the confusion matrix\n",
        "sns.heatmap(cm, annot=True, fmt=\"d\", cmap=\"Blues\", cbar=False,\n",
        "            xticklabels=['Predicted 0', 'Predicted 1'],\n",
        "            yticklabels=['Actual 0', 'Actual 1'])\n",
        "\n",
        "plt.xlabel(\"Predicted\")\n",
        "plt.ylabel(\"Actual\")\n",
        "plt.title(\"Confusion Matrix\")\n",
        "plt.show()"
      ],
      "metadata": {
        "colab": {
          "base_uri": "https://localhost:8080/",
          "height": 472
        },
        "id": "bJDp33cXC0AC",
        "outputId": "6380fa69-9a4d-4eb3-90e4-ab7763ed9cfa"
      },
      "execution_count": null,
      "outputs": [
        {
          "output_type": "display_data",
          "data": {
            "text/plain": [
              "<Figure size 640x480 with 1 Axes>"
            ],
            "image/png": "[encoded data removed]"
          },
          "metadata": {}
        }
      ]
    },
    {
      "cell_type": "markdown",
      "source": [
        "#Decision tree"
      ],
      "metadata": {
        "id": "MDRKBGUCC9r_"
      }
    },
    {
      "cell_type": "code",
      "source": [
        "model_decision_tree= DecisionTreeClassifier()\n",
        "model_decision_tree.fit(X_train, Y_train)\n",
        "y_pred_decision_tree = model_decision_tree.predict(X_test)\n",
        "accuracy1 = accuracy_score(Y_test,y_pred_decision_tree)\n",
        "# print(f\"Accuracy os KNN is {accuracy1}\")\n",
        "print(classification_report(Y_test,y_pred_decision_tree))"
      ],
      "metadata": {
        "colab": {
          "base_uri": "https://localhost:8080/"
        },
        "id": "51wUUQlTC5Th",
        "outputId": "5486f2be-b271-40c8-f57a-791e6696ff06"
      },
      "execution_count": null,
      "outputs": [
        {
          "output_type": "stream",
          "name": "stdout",
          "text": [
            "              precision    recall  f1-score   support\n",
            "\n",
            "           0       0.98      0.98      0.98      3259\n",
            "           1       0.83      0.85      0.84       321\n",
            "\n",
            "    accuracy                           0.97      3580\n",
            "   macro avg       0.91      0.91      0.91      3580\n",
            "weighted avg       0.97      0.97      0.97      3580\n",
            "\n"
          ]
        }
      ]
    },
    {
      "cell_type": "code",
      "source": [
        "cm = confusion_matrix(Y_test, y_pred_decision_tree)\n",
        "\n",
        "#visualize the confusion matrix\n",
        "sns.heatmap(cm, annot=True, fmt=\"d\", cmap=\"Blues\", cbar=False,\n",
        "            xticklabels=['Predicted 0', 'Predicted 1'],\n",
        "            yticklabels=['Actual 0', 'Actual 1'])\n",
        "\n",
        "plt.xlabel(\"Predicted\")\n",
        "plt.ylabel(\"Actual\")\n",
        "plt.title(\"Confusion Matrix\")\n",
        "plt.show()"
      ],
      "metadata": {
        "colab": {
          "base_uri": "https://localhost:8080/",
          "height": 472
        },
        "id": "jL9ATPgpDXmX",
        "outputId": "cf8bd33a-19b1-40c9-f3ed-60ac21ca9178"
      },
      "execution_count": null,
      "outputs": [
        {
          "output_type": "display_data",
          "data": {
            "text/plain": [
              "<Figure size 640x480 with 1 Axes>"
            ],
            "image/png": "[encoded data removed]"
          },
          "metadata": {}
        }
      ]
    },
    {
      "cell_type": "markdown",
      "source": [
        "#XG Boost"
      ],
      "metadata": {
        "id": "X0Ga80rJDf26"
      }
    },
    {
      "cell_type": "code",
      "source": [
        "# declare parameters\n",
        "params = {\n",
        "            'objective':'binary:logistic',\n",
        "            'max_depth': 4,\n",
        "            'alpha': 10,\n",
        "            'learning_rate': 1.0,\n",
        "            'n_estimators':100\n",
        "        }\n",
        "# instantiate the classifier\n",
        "xgb_clf = XGBClassifier(**params)\n",
        "# fit the classifier to the training data\n",
        "xgb_clf.fit(X_train, Y_train)\n",
        "y_pred_xg = xgb_clf.predict(X_test)\n",
        "accuracy1 = accuracy_score(Y_test,y_pred_xg)\n",
        "# print(f\"Accuracy os KNN is {accuracy1}\")\n",
        "print(classification_report(Y_test,y_pred_xg))"
      ],
      "metadata": {
        "colab": {
          "base_uri": "https://localhost:8080/"
        },
        "id": "H7mn8B5iDfRp",
        "outputId": "92b74d30-629b-467e-f50a-f959e610cebf"
      },
      "execution_count": null,
      "outputs": [
        {
          "output_type": "stream",
          "name": "stdout",
          "text": [
            "              precision    recall  f1-score   support\n",
            "\n",
            "           0       0.99      0.99      0.99      3259\n",
            "           1       0.92      0.85      0.88       321\n",
            "\n",
            "    accuracy                           0.98      3580\n",
            "   macro avg       0.95      0.92      0.94      3580\n",
            "weighted avg       0.98      0.98      0.98      3580\n",
            "\n"
          ]
        }
      ]
    },
    {
      "cell_type": "code",
      "source": [
        "cm = confusion_matrix(Y_test, y_pred_xg)\n",
        "\n",
        "#visualize the confusion matrix\n",
        "sns.heatmap(cm, annot=True, fmt=\"d\", cmap=\"Blues\", cbar=False,\n",
        "            xticklabels=['Predicted 0', 'Predicted 1'],\n",
        "            yticklabels=['Actual 0', 'Actual 1'])\n",
        "\n",
        "plt.xlabel(\"Predicted\")\n",
        "plt.ylabel(\"Actual\")\n",
        "plt.title(\"Confusion Matrix\")\n",
        "plt.show()"
      ],
      "metadata": {
        "colab": {
          "base_uri": "https://localhost:8080/",
          "height": 472
        },
        "id": "j0dE64BFEJSo",
        "outputId": "0120fdc9-c171-4bc9-db2a-baf7b57a01b8"
      },
      "execution_count": null,
      "outputs": [
        {
          "output_type": "display_data",
          "data": {
            "text/plain": [
              "<Figure size 640x480 with 1 Axes>"
            ],
            "image/png": "[encoded data removed]"
          },
          "metadata": {}
        }
      ]
    }
  ]
}